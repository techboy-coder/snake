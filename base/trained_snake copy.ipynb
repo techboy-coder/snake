{
 "cells": [
  {
   "cell_type": "code",
   "execution_count": null,
   "metadata": {},
   "outputs": [],
   "source": [
    "## Pretty Output\n",
    "import warnings\n",
    "warnings.filterwarnings(\"ignore\")\n",
    "from rich import pretty\n",
    "pretty.install()\n",
    "from rich.traceback import install\n",
    "install(show_locals=False)\n",
    "import numpy as np\n",
    "import time\n",
    "from tqdm.auto import tqdm\n",
    "from IPython.display import clear_output\n",
    "import matplotlib.pyplot as plt\n",
    "import copy\n",
    "import gym"
   ]
  },
  {
   "cell_type": "code",
   "execution_count": null,
   "metadata": {},
   "outputs": [],
   "source": [
    "import stable_baselines3\n",
    "# stable_baselines3.get_system_info()\n",
    "from stable_baselines3 import DQN, A2C, PPO\n",
    "from stable_baselines3.common.env_util import make_vec_env\n",
    "from stable_baselines3.common.env_checker import check_env\n",
    "from stable_baselines3.common.vec_env import DummyVecEnv, VecNormalize"
   ]
  },
  {
   "cell_type": "code",
   "execution_count": null,
   "metadata": {},
   "outputs": [],
   "source": [
    "from src.main import env_v1, env_v2, GameManager, Game"
   ]
  },
  {
   "cell_type": "code",
   "execution_count": null,
   "metadata": {},
   "outputs": [],
   "source": [
    "games = GameManager(fieldsize=40, fooditems=50)"
   ]
  },
  {
   "cell_type": "code",
   "execution_count": null,
   "metadata": {},
   "outputs": [],
   "source": [
    "id_ = games.newGame()"
   ]
  },
  {
   "cell_type": "code",
   "execution_count": null,
   "metadata": {},
   "outputs": [],
   "source": [
    "check_env_v2 = env_v2(\n",
    "    \"name\",\n",
    "    manager = games,\n",
    "    game_id = id_,\n",
    "    others = [],\n",
    "    viewdistance=10,\n",
    "    admin=True,\n",
    ")\n",
    "check_env(check_env_v2)"
   ]
  },
  {
   "cell_type": "code",
   "execution_count": null,
   "metadata": {},
   "outputs": [],
   "source": [
    "render_env: env_v2 = env_v2(\n",
    "    \"name\",\n",
    "    manager = games,\n",
    "    game_id = id_,\n",
    "    others = [],\n",
    "    viewdistance=10,\n",
    "    admin=True,\n",
    ")\n",
    "env = DummyVecEnv([lambda: render_env])\n",
    "env: VecNormalize = VecNormalize.load(f\"./saved/nrom_for_dqn_best.pkl\", env)\n",
    "#  do not update them at test time\n",
    "env.training = False\n",
    "# reward normalization is not needed at test time\n",
    "# env.norm_reward = False\n",
    "model = DQN.load(f\"./saved/dqn_best\", env = env)"
   ]
  },
  {
   "cell_type": "code",
   "execution_count": 14,
   "metadata": {},
   "outputs": [
    {
     "name": "stdout",
     "output_type": "stream",
     "text": [
      "[[[[-1 10]\n",
      "   [ 0 10]\n",
      "   [ 0 10]\n",
      "   [ 1  7]\n",
      "   [ 1  2]\n",
      "   [-1 10]\n",
      "   [ 0 10]\n",
      "   [-1 10]\n",
      "   [ 1  1]]\n",
      "\n",
      "  [[ 0  0]\n",
      "   [ 0  0]\n",
      "   [ 0  0]\n",
      "   [ 0  0]\n",
      "   [ 0  0]\n",
      "   [ 0  0]\n",
      "   [ 0  0]\n",
      "   [ 0  0]\n",
      "   [ 0  0]]]]\n",
      "(1, 2, 9, 2)\n",
      "[3]\n",
      "(1,)\n"
     ]
    }
   ],
   "source": [
    "from matplotlib import pyplot as plt\n",
    "# %matplotlib ipympl\n",
    "from celluloid import Camera\n",
    "from IPython.display import HTML\n",
    "# plt.ion()\n",
    "rewards = []\n",
    "obs = env.reset()\n",
    "action = [-1]\n",
    "fig = plt.figure()\n",
    "camera = Camera(fig)\n",
    "for _ in range(1000):\n",
    "  obs, reward, done, info = env.step(action)\n",
    "  original_obs = env.get_original_obs()\n",
    "  # original_obs = original_obs[0, 1]\n",
    "  print(original_obs)\n",
    "  print(original_obs.shape)\n",
    "  action, _states = model.predict(obs, deterministic=True)\n",
    "  print(action)\n",
    "  print(action.shape)\n",
    "  break\n",
    "  obs = env.get_original_obs()\n",
    "  reward = env.get_original_reward()\n",
    "  info = info[0]\n",
    "  ax = plt.gca()\n",
    "  ax.get_xaxis().set_visible(False)\n",
    "  ax.get_yaxis().set_visible(False)\n",
    "  game: Game = env.get_attr(attr_name=\"game\")[0]\n",
    "  O = copy.deepcopy(game.base.field)\n",
    "  try:\n",
    "    x = info[\"x\"]\n",
    "    y = info[\"y\"]\n",
    "    O[x][y] = 3\n",
    "  except:\n",
    "    pass\n",
    "  plt.imshow(O)\n",
    "  # plt.show()\n",
    "  camera.snap()\n",
    "  rewards.append(reward[0])\n",
    "  if done:\n",
    "    obs = env.reset()\n",
    "    rewards = []\n",
    "    break\n",
    "# animation = camera.animate()"
   ]
  },
  {
   "cell_type": "code",
   "execution_count": null,
   "metadata": {},
   "outputs": [],
   "source": [
    "HTML(animation.to_html5_video())"
   ]
  }
 ],
 "metadata": {
  "kernelspec": {
   "display_name": "Python 3.8.13 ('maenvv1')",
   "language": "python",
   "name": "python3"
  },
  "language_info": {
   "codemirror_mode": {
    "name": "ipython",
    "version": 3
   },
   "file_extension": ".py",
   "mimetype": "text/x-python",
   "name": "python",
   "nbconvert_exporter": "python",
   "pygments_lexer": "ipython3",
   "version": "3.8.13"
  },
  "orig_nbformat": 4,
  "vscode": {
   "interpreter": {
    "hash": "edb63c08a096593ab4a3795bc246aa0bc7c2f4b9f616a0d71b6c8924a002a22d"
   }
  }
 },
 "nbformat": 4,
 "nbformat_minor": 2
}
